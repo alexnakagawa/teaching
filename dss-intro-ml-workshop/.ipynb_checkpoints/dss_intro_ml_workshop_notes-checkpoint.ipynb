{
 "cells": [
  {
   "cell_type": "markdown",
   "metadata": {},
   "source": [
    "# Introduction to Machine Learning Workshop\n",
    "## Data Science Society at Berkeley\n",
    "\n",
    "* __Date__: April 18, 2018\n",
    "\n",
    "* __Author__ - Alex Nakagawa\n",
    "\n",
    "* _Last Updated_: April 18, 2018\n",
    "\n",
    "* __License__: Feel free to use this notebook in any way that you would like."
   ]
  },
  {
   "cell_type": "markdown",
   "metadata": {},
   "source": [
    "## Introduction\n",
    "\n",
    "Welcome to the Introduction to Machine Learning Workshop! We appreciate you coming to take the time to learn about one of the most exciting subjects in industry today: machine learning! We are here to help guide you through the basics of how Machine Learning is structured through multiple theoretical case study analyses.\n",
    "\n",
    "The purpose of this Jupyter Notebook is to give you a guided walkthrough of case studies that we will go over in class so that you can understand every detail of what goes on in each case study. Let's begin!\n",
    "\n",
    "## Structure\n",
    "\n",
    "We've developed a general, but somewhat rigid structure to follow when you do any kind of data science project in model building:\n",
    "\n",
    "| Step | Name |\n",
    "| 1 | Preprocessing |\n",
    "| 2 | EDA |\n",
    "| 3 | Model Creation |\n",
    "| 4 | Evaluation |\n",
    "| 5 | Feature Engineering |\n",
    "\n",
    "\n",
    "\n",
    "## Legend\n",
    "\n",
    "If you see this arrow, it will ask you to fill in code or text to answer a question: <img src='down_arrow.png' style='width:50px;height:50px;'></img>"
   ]
  },
  {
   "cell_type": "markdown",
   "metadata": {},
   "source": [
    "## Part 0: Packages\n",
    "\n",
    "The following packages are STANDARD for any data science project. It is (almost) vital that you use these almost everytime. __Run the next block__."
   ]
  },
  {
   "cell_type": "code",
   "execution_count": null,
   "metadata": {},
   "outputs": [],
   "source": [
    "import numpy as np\n",
    "import pandas as pd\n",
    "import matplotlib.pyplot as plt\n",
    "import seaborn as sns\n",
    "\n",
    "\n",
    "# Optional\n",
    "# %matplotlib inline"
   ]
  },
  {
   "cell_type": "markdown",
   "metadata": {},
   "source": [
    "Why do we need these specific packages? If you don't recognize a package, write about its benefits below\n",
    "\n",
    "<img src='down_arrow.png' style='width:50px;height:50px;'></img>\n",
    "\n",
    "`YOUR ANSWER HERE`"
   ]
  },
  {
   "cell_type": "markdown",
   "metadata": {},
   "source": [
    "## Part I: Simple Linear Regression\n",
    "\n",
    "__Linear regression__ is a predictive modeling technique for predicting a numeric response variable based on features.  \n",
    "\"Linear\" in the name linear regression refers to the fact that this method fits a model where response bears linear relationship with features. (ie Z is proportional to first power of x)\n",
    "\n",
    "__Z = X0 + a(X1) + b(X2) +.... where:__   \n",
    "Z: predicted response  \n",
    "X0: intercept  \n",
    "a,b,..: Coefficients of X1,X2..  \n",
    "\n",
    "If Y is the actual response and Z is the predicted response,    \n",
    "__Y-Z= Residual__  \n",
    "Average Residual defines model performance,residual equal to zero represents a perfect fit model."
   ]
  },
  {
   "cell_type": "code",
   "execution_count": null,
   "metadata": {},
   "outputs": [],
   "source": [
    "'''Source: Scikit learn\n",
    "Code source: Jaques Grobler\n",
    "License: BSD 3 clause'''\n",
    "from sklearn.linear_model import LinearRegression\n",
    "\n",
    "example_dff = pd.DataFrame(np.random.randint(0,100,size=(100, 1)),columns=['X'])\n",
    "example_dff['C']=5.1*example_dff['X']\n",
    "# example_dff['C']=5.1*example_dff['X']**2\n",
    "X_reg = example_dff[['X']]\n",
    "\n",
    "Y_reg = example_dff['C']\n",
    "\n",
    "# Create linear regression object\n",
    "model = LinearRegression()\n",
    "\n",
    "# Train the model using the training sets\n",
    "model.fit(X_reg, Y_reg)\n",
    "Z_reg=model.predict(X_reg)\n",
    "\n",
    "# The coefficients\n",
    "print('Coefficients:', model.coef_)\n",
    "# The mean squared error\n",
    "print(\"Mean squared error:\",np.mean((Z_reg - Y_reg) ** 2))\n",
    "\n",
    "# Plot outputs\n",
    "plt.scatter(X_reg['X'], Y_reg,  color='red')\n",
    "plt.plot(X_reg['X'], Z_reg, color='blue',\n",
    "         linewidth=3)\n",
    "plt.xlabel('X')\n",
    "plt.ylabel('Y')\n",
    "plt.title('Linear Regression using data with one feature -X')\n",
    "plt.xticks(())\n",
    "plt.yticks(())\n",
    "\n",
    "plt.show()"
   ]
  },
  {
   "cell_type": "markdown",
   "metadata": {},
   "source": [
    "## Part II: Simple Classification\n",
    "\n",
    "This case study will go over the structure of creating a simple classification.\n",
    "\n",
    "We will first look at Kickstarter data found on Kaggle [here]('https://www.kaggle.com/kemical/kickstarter-projects'). Before we do ANYTHING, what are we even working with? READ any available documentation for a dataset you find publicly online. Why do we want to do this? <img src='down_arrow.png' style='width:50px;height:50px;'></img>\n",
    "\n",
    "`YOUR ANSWER HERE`"
   ]
  },
  {
   "cell_type": "markdown",
   "metadata": {},
   "source": [
    "### Section 1. Preprocessing"
   ]
  },
  {
   "cell_type": "markdown",
   "metadata": {},
   "source": [
    "Let's take a look at what our data actually looks like now. Several things we want to check for:\n",
    "\n",
    "* Are there missing values?\n",
    "* Are the columns the dtypes that we want?\n",
    "* What exactly does each row represent?\n",
    "\n",
    "More details about what to look for from a public data set are here: https://www.textbook.ds100.org/ch01/the_students_of_ds100_1.html\n",
    "\n",
    "We'll import the data using the `pandas.read_csv` function."
   ]
  },
  {
   "cell_type": "code",
   "execution_count": null,
   "metadata": {},
   "outputs": [],
   "source": [
    "kickstarter = pd.read_csv('kickstarter.csv')\n",
    "kickstarter.head()"
   ]
  },
  {
   "cell_type": "markdown",
   "metadata": {},
   "source": [
    "See anything interesting? Probably not from just looking at the first 5 rows. Let's continue to familiarize ourself with this dataset. We're now going to summarize our data. Luckily, `pandas` makes that pretty easy."
   ]
  },
  {
   "cell_type": "code",
   "execution_count": null,
   "metadata": {},
   "outputs": [],
   "source": [
    "kickstarter.describe()"
   ]
  },
  {
   "cell_type": "code",
   "execution_count": null,
   "metadata": {
    "scrolled": true
   },
   "outputs": [],
   "source": [
    "kickstarter.isnull().sum()"
   ]
  },
  {
   "cell_type": "code",
   "execution_count": null,
   "metadata": {},
   "outputs": [],
   "source": [
    "kickstarter.info()"
   ]
  },
  {
   "cell_type": "markdown",
   "metadata": {},
   "source": [
    "What do you think are some problems we may run into looking at these three function calls?\n",
    "\n",
    "<img src='down_arrow.png' style='width:50px;height:50px;'></img>\n",
    "\n",
    "`YOUR ANSWER HERE`"
   ]
  },
  {
   "cell_type": "markdown",
   "metadata": {},
   "source": [
    "Wow, that's a lot of missing values for `usd_pledged`... let's see what those rows look like"
   ]
  },
  {
   "cell_type": "code",
   "execution_count": null,
   "metadata": {},
   "outputs": [],
   "source": [
    "null_rows = kickstarter.isnull().any(axis=1)\n",
    "kickstarter[null_rows]"
   ]
  },
  {
   "cell_type": "markdown",
   "metadata": {},
   "source": [
    "How should we deal with these missing values? \n",
    "\n",
    "<img src='down_arrow.png' style='width:50px;height:50px;'></img>\n",
    "\n",
    "`YOUR ANSWER HERE`"
   ]
  },
  {
   "cell_type": "markdown",
   "metadata": {},
   "source": [
    "There are a ton of rows, over 300,000 of them! It'd be ok to drop the 3700 ish that are missing"
   ]
  },
  {
   "cell_type": "code",
   "execution_count": null,
   "metadata": {},
   "outputs": [],
   "source": [
    "print('Before: ', kickstarter.shape)\n",
    "kickstarter = kickstarter.dropna(axis=0, how='any')\n",
    "print('After: ', kickstarter.shape)\n",
    "kickstarter.isnull().sum()"
   ]
  },
  {
   "cell_type": "markdown",
   "metadata": {},
   "source": [
    "### Section 2. EDA (Exploratory Data Analysis)\n",
    "\n",
    "We've now set our data into a good place to begin exploring statistically.\n",
    "\n",
    "Now that we've fixed the values, let's further our understanding by finding the different categories for our columns. We noticed that there's a `main_category` variable, let's see what kinds of values that will take "
   ]
  },
  {
   "cell_type": "code",
   "execution_count": null,
   "metadata": {},
   "outputs": [],
   "source": [
    "kickstarter['main_category'].unique()"
   ]
  },
  {
   "cell_type": "markdown",
   "metadata": {},
   "source": [
    "OR"
   ]
  },
  {
   "cell_type": "code",
   "execution_count": null,
   "metadata": {},
   "outputs": [],
   "source": [
    "count_categories = kickstarter.groupby('main_category').size()\n",
    "count_categories"
   ]
  },
  {
   "cell_type": "code",
   "execution_count": null,
   "metadata": {},
   "outputs": [],
   "source": [
    "g = sns.barplot(count_categories.index, count_categories)\n",
    "for item in g.get_xticklabels():\n",
    "    item.set_rotation(90)"
   ]
  },
  {
   "cell_type": "markdown",
   "metadata": {},
   "source": [
    "Okay... interesting. Perhaps I want to see the current state of each project. Let's find a way to visualize that."
   ]
  },
  {
   "cell_type": "code",
   "execution_count": null,
   "metadata": {},
   "outputs": [],
   "source": [
    "states = kickstarter.groupby('state').size()\n",
    "states"
   ]
  },
  {
   "cell_type": "code",
   "execution_count": null,
   "metadata": {},
   "outputs": [],
   "source": [
    "states.plot(kind='bar')\n",
    "plt.title('Counts for States of All Kickstarter Campaigns');"
   ]
  },
  {
   "cell_type": "markdown",
   "metadata": {},
   "source": [
    "This visualization is _okay_, but how can we improve it?  <img src='down_arrow.png' style='width:50px;height:50px;'></img>\n",
    "\n",
    "`YOUR ANSWER HERE`"
   ]
  },
  {
   "cell_type": "code",
   "execution_count": null,
   "metadata": {},
   "outputs": [],
   "source": [
    "states_log = np.log(states)\n",
    "states_log.plot(kind='bar')\n",
    "plt.title('Log-Counts for States of All Kickstarter Campaigns');"
   ]
  },
  {
   "cell_type": "markdown",
   "metadata": {},
   "source": [
    "Alright, we're now going to take the failed and successful columns in the film & video category to formulate some kind of question.  <img src='down_arrow.png' style='width:50px;height:50px;'></img>"
   ]
  },
  {
   "cell_type": "code",
   "execution_count": null,
   "metadata": {},
   "outputs": [],
   "source": [
    "kickstarter_failed_successful = kickstarter[(kickstarter['state']=='successful') |\n",
    "                                                  (kickstarter['state']=='failed')]\n",
    "kickstarter_failed_successful"
   ]
  },
  {
   "cell_type": "code",
   "execution_count": null,
   "metadata": {},
   "outputs": [],
   "source": [
    "kickstarter_failed_successful['difference'] = kickstarter_failed_successful['usd_pledged_real'] - \\\n",
    "                                                 kickstarter_failed_successful['usd_goal_real']\n",
    "kickstarter_failed_successful[['difference']]"
   ]
  },
  {
   "cell_type": "code",
   "execution_count": null,
   "metadata": {},
   "outputs": [],
   "source": [
    "kickstarter_failed_successful.sort_values(by='difference', ascending=False)"
   ]
  },
  {
   "cell_type": "markdown",
   "metadata": {},
   "source": [
    "Here's a general question: what kind of factors go into a successful/failed Kickstarter project? Could it be that the number of backers have an impact on whether people want to back a certain project? Or could it be perhaps that one country has more projects than another, which would generate more interest? Give an example of another column that could lead to a \"successful\" state for a project (besides the fact that it reaches its goal). <img src='down_arrow.png' style='width:50px;height:50px;'></img>\n",
    "\n",
    "`YOUR ANSWER HERE`"
   ]
  },
  {
   "cell_type": "markdown",
   "metadata": {},
   "source": [
    "Hoorah! Now we know that we want to do a classification on the dataset. Some of the columns are not numeric, so let's fix that now."
   ]
  },
  {
   "cell_type": "code",
   "execution_count": null,
   "metadata": {},
   "outputs": [],
   "source": [
    "kickstarter_failed_successful = kickstarter_failed_successful.drop(['name', \n",
    "                                                                    'category', \n",
    "                                                                    'deadline', \n",
    "                                                                    'launched'], axis=1)"
   ]
  },
  {
   "cell_type": "code",
   "execution_count": null,
   "metadata": {},
   "outputs": [],
   "source": [
    "categories_list = count_categories.index.tolist()\n",
    "\n",
    "kickstarter_failed_successful['main_category'] = kickstarter_failed_successful['main_category'].replace( \n",
    "    categories_list,\n",
    "    np.arange(len(categories_list))\n",
    ")\n",
    "\n",
    "kickstarter_failed_successful['currency'] = kickstarter_failed_successful['currency'].replace( \n",
    "    kickstarter_failed_successful['currency'].unique(),\n",
    "    np.arange(len(kickstarter_failed_successful['currency'].unique()))\n",
    ")\n",
    "\n",
    "kickstarter_failed_successful['country'] = kickstarter_failed_successful['country'].replace( \n",
    "    kickstarter_failed_successful['country'].unique(),\n",
    "    np.arange(len(kickstarter_failed_successful['country'].unique()))\n",
    ")\n",
    "\n",
    "kickstarter_failed_successful['state'] = kickstarter_failed_successful['state'].replace( \n",
    "    ['successful', 'failed'],\n",
    "    [1, 0]\n",
    ")\n"
   ]
  },
  {
   "cell_type": "code",
   "execution_count": null,
   "metadata": {},
   "outputs": [],
   "source": [
    "print(\"Kickstarter dataframe shape (just failed, successful, and dropped cols): \" , kickstarter_failed_successful.shape)\n",
    "kickstarter_failed_successful"
   ]
  },
  {
   "cell_type": "markdown",
   "metadata": {},
   "source": [
    "There's one final worry in our data... but it may not be so obvious. What is it? <img src='down_arrow.png' style='width:50px;height:50px;'></img>\n",
    "\n",
    "`YOUR ANSWER HERE`"
   ]
  },
  {
   "cell_type": "markdown",
   "metadata": {},
   "source": [
    "### Section 3. Model"
   ]
  },
  {
   "cell_type": "code",
   "execution_count": null,
   "metadata": {},
   "outputs": [],
   "source": [
    "df = kickstarter_failed_successful.sample(5000)\n",
    "df"
   ]
  },
  {
   "cell_type": "code",
   "execution_count": null,
   "metadata": {},
   "outputs": [],
   "source": [
    "from sklearn.svm import SVC\n",
    "from sklearn.model_selection import train_test_split, cross_val_predict\n",
    "from sklearn import metrics\n",
    "\n",
    "X_train, X_test, y_train, y_test = train_test_split(df.drop('state', axis=1),\n",
    "                                                    df['state'], test_size=0.2,\n",
    "                                                    random_state=7)\n",
    "\n",
    "# Creating model\n",
    "model = SVC()\n",
    "\n",
    "# Fitting model\n",
    "model.fit(X_train, y_train)\n",
    "predicted = cross_val_predict(model, X_test, y_test, cv=5)"
   ]
  },
  {
   "cell_type": "markdown",
   "metadata": {},
   "source": [
    "### Section 4. Model Evaluation + 5. Feature Engineering (Optional)"
   ]
  },
  {
   "cell_type": "code",
   "execution_count": null,
   "metadata": {},
   "outputs": [],
   "source": [
    "# Scoring\n",
    "metrics.accuracy_score(y_test, predicted)"
   ]
  },
  {
   "cell_type": "markdown",
   "metadata": {},
   "source": [
    "How was the model evaluation score? Not so great, right? let's think of ways to improve: <img src='down_arrow.png' style='width:50px;height:50px;'></img>\n",
    "\n",
    "`YOUR ANSWER HERE`\n",
    "\n"
   ]
  },
  {
   "cell_type": "markdown",
   "metadata": {},
   "source": [
    "The following process is called to normalize your dataframe."
   ]
  },
  {
   "cell_type": "code",
   "execution_count": null,
   "metadata": {},
   "outputs": [],
   "source": [
    "df['goal'] = (df['goal'] - df['goal'].mean()) / (df['goal'].max() - df['goal'].min())\n",
    "df['pledged'] = (df['pledged'] - df['pledged'].mean()) / (df['pledged'].max() - df['pledged'].min())\n",
    "df['backers'] = (df['backers'] - df['backers'].mean()) / (df['backers'].max() - df['backers'].min())\n",
    "df['usd pledged'] = (df['usd pledged'] - df['usd pledged'].mean()) / (df['usd pledged'].max() - df['usd pledged'].min())\n",
    "df['usd_pledged_real'] = (df['usd_pledged_real'] - df['usd_pledged_real'].mean()) / (df['usd_pledged_real'].max() - df['usd_pledged_real'].min())\n",
    "df['usd_goal_real'] = (df['usd_goal_real'] - df['usd_goal_real'].mean()) / (df['usd_goal_real'].max() - df['usd_goal_real'].min())\n",
    "df['difference'] = (df['difference'] - df['difference'].mean()) / (df['difference'].max() - df['difference'].min())\n",
    "\n",
    "X_train, X_test, y_train, y_test = train_test_split(df.drop('state', axis=1),\n",
    "                                                    df['state'], test_size=0.2,\n",
    "                                                    random_state=7)\n",
    "\n",
    "# Creating model\n",
    "model = SVC()\n",
    "\n",
    "# Fitting model\n",
    "model.fit(X_train, y_train)\n",
    "predicted = cross_val_predict(model, X_test, y_test, cv=5)\n",
    "metrics.accuracy_score(y_test, predicted)"
   ]
  },
  {
   "cell_type": "code",
   "execution_count": null,
   "metadata": {},
   "outputs": [],
   "source": []
  },
  {
   "cell_type": "code",
   "execution_count": null,
   "metadata": {},
   "outputs": [],
   "source": []
  }
 ],
 "metadata": {
  "kernelspec": {
   "display_name": "Python 3",
   "language": "python",
   "name": "python3"
  },
  "language_info": {
   "codemirror_mode": {
    "name": "ipython",
    "version": 3
   },
   "file_extension": ".py",
   "mimetype": "text/x-python",
   "name": "python",
   "nbconvert_exporter": "python",
   "pygments_lexer": "ipython3",
   "version": "3.6.4"
  }
 },
 "nbformat": 4,
 "nbformat_minor": 2
}
